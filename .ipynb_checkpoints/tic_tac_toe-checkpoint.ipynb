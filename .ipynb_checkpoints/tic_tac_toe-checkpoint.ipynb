{
 "cells": [
  {
   "cell_type": "code",
   "execution_count": 178,
   "id": "fedcb93b",
   "metadata": {},
   "outputs": [],
   "source": [
    "import numpy as np\n",
    "import matplotlib.pyplot as plt\n",
    "import timeit"
   ]
  },
  {
   "cell_type": "code",
   "execution_count": 198,
   "id": "bf43c700",
   "metadata": {},
   "outputs": [],
   "source": [
    "test_arr = [[0, 2, 1],\n",
    "           [1, 1, 2],\n",
    "           [2, 1, 2]]\n",
    "test_board = np.array(test_arr)"
   ]
  },
  {
   "cell_type": "code",
   "execution_count": 199,
   "id": "df5e2578",
   "metadata": {},
   "outputs": [],
   "source": [
    "def game_over(arr):\n",
    "    #check columns and rows\n",
    "    for i in range(3):\n",
    "        if np.all((arr[i, 0] == arr[i, :]) & (0 != arr[i, :])):\n",
    "            return arr[i, 0]\n",
    "        elif np.all((arr[0, i] == arr[:, i]) & (0 != arr[:, i])):\n",
    "            return arr[0, i]\n",
    "    #check diagonals\n",
    "    if arr[0,0] == arr[1,1] == arr[2,2] != 0:\n",
    "        return arr[0, 0]\n",
    "    elif arr[0,2] == arr[1,1] == arr[2,0] != 0:\n",
    "        return arr[0, 2]\n",
    "    #check if tie\n",
    "    elif 0 not in arr:\n",
    "        return 'tie'\n",
    "    #keep the game running\n",
    "    return False"
   ]
  },
  {
   "cell_type": "code",
   "execution_count": 201,
   "id": "5c49264d",
   "metadata": {},
   "outputs": [
    {
     "data": {
      "text/plain": [
       "6.084245500000179"
      ]
     },
     "execution_count": 201,
     "metadata": {},
     "output_type": "execute_result"
    }
   ],
   "source": [
    "#need to improve function running time\n",
    "timeit.timeit(lambda: game_over(test_board), number=100_000)"
   ]
  },
  {
   "cell_type": "code",
   "execution_count": 203,
   "id": "38823bf9",
   "metadata": {},
   "outputs": [],
   "source": [
    "board = np.zeros((3, 3))\n",
    "player_1_turn = True"
   ]
  },
  {
   "cell_type": "code",
   "execution_count": null,
   "id": "e7b3076a",
   "metadata": {},
   "outputs": [],
   "source": [
    "while True:\n",
    "    board[np.random.randint((3, 3))] = \n",
    "    "
   ]
  }
 ],
 "metadata": {
  "kernelspec": {
   "display_name": "Python 3 (ipykernel)",
   "language": "python",
   "name": "python3"
  },
  "language_info": {
   "codemirror_mode": {
    "name": "ipython",
    "version": 3
   },
   "file_extension": ".py",
   "mimetype": "text/x-python",
   "name": "python",
   "nbconvert_exporter": "python",
   "pygments_lexer": "ipython3",
   "version": "3.9.2"
  }
 },
 "nbformat": 4,
 "nbformat_minor": 5
}
